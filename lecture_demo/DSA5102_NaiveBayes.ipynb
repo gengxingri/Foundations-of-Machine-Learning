{
 "cells": [
  {
   "attachments": {},
   "cell_type": "markdown",
   "metadata": {},
   "source": [
    "Naive-Bayes.\n",
    "\n"
   ]
  },
  {
   "cell_type": "code",
   "execution_count": 11,
   "metadata": {},
   "outputs": [
    {
     "name": "stdout",
     "output_type": "stream",
     "text": [
      "  label                                               text Unnamed: 2  \\\n",
      "0   ham  Go until jurong point, crazy.. Available only ...        NaN   \n",
      "1   ham                      Ok lar... Joking wif u oni...        NaN   \n",
      "2  spam  Free entry in 2 a wkly comp to win FA Cup fina...        NaN   \n",
      "3   ham  U dun say so early hor... U c already then say...        NaN   \n",
      "4   ham  Nah I don't think he goes to usf, he lives aro...        NaN   \n",
      "\n",
      "  Unnamed: 3 Unnamed: 4  \n",
      "0        NaN        NaN  \n",
      "1        NaN        NaN  \n",
      "2        NaN        NaN  \n",
      "3        NaN        NaN  \n",
      "4        NaN        NaN  \n"
     ]
    }
   ],
   "source": [
    "import pandas as pd\n",
    "df=pd.read_csv('data/spam.csv', encoding='latin')  #指定编码格式\n",
    "\n",
    "print(df.head())"
   ]
  },
  {
   "cell_type": "code",
   "execution_count": 12,
   "metadata": {},
   "outputs": [
    {
     "name": "stdout",
     "output_type": "stream",
     "text": [
      "  label                                               text Unnamed: 2  \\\n",
      "0   ham  Go until jurong point, crazy.. Available only ...        NaN   \n",
      "1   ham                      Ok lar... Joking wif u oni...        NaN   \n",
      "2  spam  Free entry in 2 a wkly comp to win FA Cup fina...        NaN   \n",
      "3   ham  U dun say so early hor... U c already then say...        NaN   \n",
      "4   ham  Nah I don't think he goes to usf, he lives aro...        NaN   \n",
      "\n",
      "  Unnamed: 3 Unnamed: 4  numlabel  \n",
      "0        NaN        NaN         0  \n",
      "1        NaN        NaN         0  \n",
      "2        NaN        NaN         1  \n",
      "3        NaN        NaN         0  \n",
      "4        NaN        NaN         0  \n"
     ]
    }
   ],
   "source": [
    "#把‘ham’和‘spam’标签重命名为0和1\n",
    "df['numlabel']=df['label'].map({'ham':0,'spam':1})\n",
    "print(df.head())"
   ]
  },
  {
   "cell_type": "code",
   "execution_count": 13,
   "metadata": {},
   "outputs": [
    {
     "name": "stdout",
     "output_type": "stream",
     "text": [
      "0    4825\n",
      "1     747\n",
      "Name: numlabel, dtype: int64\n",
      "5572\n"
     ]
    }
   ],
   "source": [
    "#进行类别计数\n",
    "print(df['numlabel'].value_counts())\n",
    "print(len(df['numlabel']))"
   ]
  },
  {
   "cell_type": "code",
   "execution_count": 18,
   "metadata": {},
   "outputs": [
    {
     "name": "stdout",
     "output_type": "stream",
     "text": [
      "the minimum length is:2\n",
      " the maximum length is:910\n"
     ]
    }
   ],
   "source": [
    "#统计文本长度\n",
    "text_lengths=[len(df.loc[i,'text']) for i in range(len(df))]\n",
    "print('the minimum length is:%d\\n'%(min(text_lengths)),\n",
    "      'the maximum length is:%d'%(max(text_lengths))\n",
    "      )"
   ]
  },
  {
   "cell_type": "code",
   "execution_count": 19,
   "metadata": {},
   "outputs": [
    {
     "data": {
      "image/png": "[encoded data removed]",
      "text/plain": [
       "<Figure size 432x288 with 1 Axes>"
      ]
     },
     "metadata": {
      "needs_background": "light"
     },
     "output_type": "display_data"
    }
   ],
   "source": [
    "import numpy as np\n",
    "import matplotlib.mlab as mlab\n",
    "import matplotlib.pyplot as plt\n",
    "plt.hist(text_lengths,100,facecolor='magenta',alpha=0.5) #其中100是指定有多少条条形\n",
    "plt.xlim([0,200])\n",
    "plt.show()"
   ]
  },
  {
   "cell_type": "code",
   "execution_count": 20,
   "metadata": {},
   "outputs": [
    {
     "name": "stdout",
     "output_type": "stream",
     "text": [
      "(5572, 8672)\n"
     ]
    }
   ],
   "source": [
    "from sklearn.feature_extraction.text import CountVectorizer #构建文本的向量（基于词频的表示）\n",
    "vectorizer=CountVectorizer()\n",
    "x=vectorizer.fit_transform(df.text)\n",
    "y=df.numlabel\n",
    "print(x.shape)"
   ]
  },
  {
   "cell_type": "code",
   "execution_count": 21,
   "metadata": {},
   "outputs": [
    {
     "name": "stdout",
     "output_type": "stream",
     "text": [
      "训练集种的样本量：4457 测试集种的样本量：1115\n"
     ]
    }
   ],
   "source": [
    "#把数据分为训练集和测试集\n",
    "from sklearn.model_selection import train_test_split\n",
    "x_train,x_test,y_train,y_test=train_test_split(x,y,test_size=0.2,random_state=21)\n",
    "\n",
    "print('训练集种的样本量：%d'%x_train.shape[0],'测试集种的样本量：%d'%x_test.shape[0])"
   ]
  },
  {
   "cell_type": "code",
   "execution_count": 22,
   "metadata": {},
   "outputs": [
    {
     "name": "stdout",
     "output_type": "stream",
     "text": [
      "朴素贝叶斯\n",
      "0.9811659192825112 0.9678205128205127\n",
      "0.95 0.9047619047619048 0.9268292682926829\n"
     ]
    }
   ],
   "source": [
    "#利用朴素贝叶斯进行训练\n",
    "from sklearn.naive_bayes import MultinomialNB\n",
    "from sklearn.metrics import accuracy_score,roc_auc_score,f1_score,recall_score,precision_score\n",
    "clf=MultinomialNB(alpha=1.0,fit_prior=True)\n",
    "clf.fit(x_train,y_train)\n",
    "y_pred_1=clf.predict(x_test)\n",
    "print('朴素贝叶斯')\n",
    "print(accuracy_score(y_test,y_pred_1),roc_auc_score(y_test,y_pred_1))\n",
    "print(recall_score(y_test,y_pred_1),precision_score(y_test,y_pred_1),f1_score(y_test,y_pred_1))"
   ]
  },
  {
   "attachments": {},
   "cell_type": "markdown",
   "metadata": {},
   "source": [
    "tf-idf表示\n",
    "\n",
    "不仅考虑词语在文本中出现的次数，进一步考虑词语的重要性，认为出现次数越多越不重要。\n",
    "\n",
    "词频 (term frequency, TF)指的是某一个给定的词语在该文件中出现的次数。这个数字通常会被归一化(一般是词频除以文章总词数), 以防止它偏向长的文件。\n",
    "\n",
    "\n",
    "逆向文件频率 (inverse document frequency, IDF)IDF的主要思想是：如果包含词条t的文档越少, IDF越大，则说明词条具有很好的类别区分能力。某一特定词语的IDF，可以由总文件数目除以包含该词语之文件的数目，再将得到的商取对数得到。\n",
    "\n",
    "\n",
    "\n",
    "某一特定文件内的高词语频率，以及该词语在整个文件集合中的低文件频率，可以产生出高权重的TF-IDF。因此，TF-IDF倾向于过滤掉常见的词语，保留重要的词语。\n",
    "\n",
    "\n",
    "特征是实数型。\n",
    "\n"
   ]
  },
  {
   "cell_type": "code",
   "execution_count": 23,
   "metadata": {},
   "outputs": [
    {
     "name": "stdout",
     "output_type": "stream",
     "text": [
      "(5572, 8672)\n"
     ]
    }
   ],
   "source": [
    "#利用tf-idf从文本中提取特征,写到数组里\n",
    "from sklearn.feature_extraction.text import TfidfVectorizer\n",
    "tfidf=TfidfVectorizer()\n",
    "X=tfidf.fit_transform(df.text)\n",
    "Y=df.numlabel\n",
    "print(X.shape)"
   ]
  },
  {
   "cell_type": "code",
   "execution_count": 24,
   "metadata": {},
   "outputs": [
    {
     "name": "stdout",
     "output_type": "stream",
     "text": [
      "训练集种的样本量：4457 测试集种的样本量：1115\n"
     ]
    }
   ],
   "source": [
    "#把数据分为训练集和测试集\n",
    "X_train,X_test,Y_train,Y_test=train_test_split(X,Y,test_size=0.2,random_state=21)\n",
    "print('训练集种的样本量：%d'%X_train.shape[0],'测试集种的样本量：%d'%Y_test.shape[0])\n"
   ]
  },
  {
   "cell_type": "code",
   "execution_count": 25,
   "metadata": {},
   "outputs": [
    {
     "name": "stdout",
     "output_type": "stream",
     "text": [
      "朴素贝叶斯\n",
      "accuracy on test data:  0.9614349775784753 0.8464285714285714\n"
     ]
    }
   ],
   "source": [
    "CLF = MultinomialNB()\n",
    "# 利用朴素贝叶斯做训练\n",
    "CLF.fit(X_train, Y_train)\n",
    "Y_pred_1 = CLF.predict(X_test)\n",
    "print('朴素贝叶斯')\n",
    "print(\"accuracy on test data: \", accuracy_score(Y_test, Y_pred_1),roc_auc_score(Y_test, Y_pred_1))\n"
   ]
  }
 ],
 "metadata": {
  "kernelspec": {
   "display_name": "Python 3",
   "language": "python",
   "name": "python3"
  },
  "language_info": {
   "codemirror_mode": {
    "name": "ipython",
    "version": 3
   },
   "file_extension": ".py",
   "mimetype": "text/x-python",
   "name": "python",
   "nbconvert_exporter": "python",
   "pygments_lexer": "ipython3",
   "version": "3.9.7"
  },
  "orig_nbformat": 4,
  "vscode": {
   "interpreter": {
    "hash": "aee8b7b246df8f9039afb4144a1f6fd8d2ca17a180786b69acc140d282b71a49"
   }
  }
 },
 "nbformat": 4,
 "nbformat_minor": 2
}
